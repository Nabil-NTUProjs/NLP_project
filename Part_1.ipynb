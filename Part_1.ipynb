{
 "cells": [
  {
   "cell_type": "markdown",
   "metadata": {},
   "source": [
    "Dataset_prep"
   ]
  },
  {
   "cell_type": "code",
   "execution_count": null,
   "metadata": {},
   "outputs": [],
   "source": [
    "!pip install datasets"
   ]
  },
  {
   "cell_type": "code",
   "execution_count": 5,
   "metadata": {},
   "outputs": [],
   "source": [
    "from datasets import load_dataset\n",
    "dataset = load_dataset(\"rotten_tomatoes\")\n",
    "train_dataset = dataset['train']\n",
    "validation_dataset = dataset['validation']\n",
    "test_dataset = dataset['test']"
   ]
  },
  {
   "cell_type": "markdown",
   "metadata": {},
   "source": [
    "Part_1"
   ]
  },
  {
   "cell_type": "code",
   "execution_count": null,
   "metadata": {},
   "outputs": [],
   "source": [
    "!pip install nltk gensim"
   ]
  },
  {
   "cell_type": "markdown",
   "metadata": {},
   "source": [
    "(a) What is the size of the vocabulary formed from your training data?\n",
    "Ans: 18029"
   ]
  },
  {
   "cell_type": "code",
   "execution_count": 8,
   "metadata": {},
   "outputs": [
    {
     "name": "stderr",
     "output_type": "stream",
     "text": [
      "[nltk_data] Downloading package punkt_tab to\n",
      "[nltk_data]     C:\\Users\\xxnab\\AppData\\Roaming\\nltk_data...\n",
      "[nltk_data]   Unzipping tokenizers\\punkt_tab.zip.\n",
      "[nltk_data] Downloading package punkt to\n",
      "[nltk_data]     C:\\Users\\xxnab\\AppData\\Roaming\\nltk_data...\n",
      "[nltk_data]   Package punkt is already up-to-date!\n"
     ]
    },
    {
     "name": "stdout",
     "output_type": "stream",
     "text": [
      "Vocabulary Size: 18029\n",
      "Most common words in the dataset: [('.', 11197), ('the', 8034), (',', 8001), ('a', 5879), ('and', 4918), ('of', 4815), ('to', 3416), (\"'s\", 2872), ('is', 2848), ('it', 2733)]\n"
     ]
    }
   ],
   "source": [
    "import nltk\n",
    "from nltk.tokenize import word_tokenize\n",
    "from datasets import load_dataset\n",
    "from collections import Counter\n",
    "import gensim.downloader as api\n",
    "\n",
    "# Download required tokenizer\n",
    "nltk.download('punkt_tab')\n",
    "nltk.download('punkt')\n",
    "\n",
    "# Tokenize and build the vocabulary from the training dataset\n",
    "vocab = Counter()\n",
    "\n",
    "# Tokenize and update vocabulary\n",
    "for item in train_dataset:\n",
    "    tokens = word_tokenize(item['text'].lower())  # Tokenizing and converting to lowercase\n",
    "    vocab.update(tokens)\n",
    "\n",
    "# Get the size of the vocabulary\n",
    "vocab_size = len(vocab)\n",
    "print(f\"Vocabulary Size: {vocab_size}\")\n",
    "\n",
    "# Display the top 10 most common words in the dataset (can delete this, for fun :)\n",
    "print(\"Most common words in the dataset:\", vocab.most_common(10))"
   ]
  },
  {
   "cell_type": "markdown",
   "metadata": {},
   "source": [
    "(b) We use OOV (out-of-vocabulary) to refer to those words appeared in the training data but not in the Word2vec (or Glove) dictionary. How many OOV words exist in your training data?"
   ]
  },
  {
   "cell_type": "code",
   "execution_count": 9,
   "metadata": {},
   "outputs": [
    {
     "name": "stdout",
     "output_type": "stream",
     "text": [
      "[==================================================] 100.0% 1662.8/1662.8MB downloaded\n",
      "Number of OOV words: 3612\n",
      "Some OOV words: ['to', '21st', \"'s\", '``', 'and', 'a', ',', 'jean-claud', 'damme', 'segal']\n"
     ]
    }
   ],
   "source": [
    "# Load pre-trained Word2Vec model\n",
    "word2vec_model = api.load('word2vec-google-news-300')\n",
    "\n",
    "# Check OOV words (words in training data but not in the pre-trained embeddings)\n",
    "oov_words_word2vec = [word for word in vocab if word not in word2vec_model]\n",
    "oov_count_word2vec = len(oov_words_word2vec)\n",
    "\n",
    "print(f\"Number of OOV words: {oov_count_word2vec}\")\n",
    "print(\"Some OOV words:\", oov_words_word2vec[:10])\n"
   ]
  },
  {
   "cell_type": "code",
   "execution_count": 10,
   "metadata": {},
   "outputs": [
    {
     "name": "stdout",
     "output_type": "stream",
     "text": [
      "[==================================================] 100.0% 376.1/376.1MB downloaded\n",
      "Number of OOV words: 1865\n",
      "Some OOV words: ['jean-claud', 'co-writer/director', 'too-tepid', 'wisegirls', \"'who\", 'enrapturing', 'fulford-wierzbicki', 'laissez-passer', \"'compleja\", 'intelectualmente']\n"
     ]
    }
   ],
   "source": [
    "# Load pre-trained GloVe model\n",
    "glove_model = api.load('glove-wiki-gigaword-300')\n",
    "\n",
    "# Check OOV words (words in training data but not in the pre-trained embeddings)\n",
    "oov_words_glove = [word for word in vocab if word not in glove_model]\n",
    "oov_count_glove = len(oov_words_glove)\n",
    "\n",
    "print(f\"Number of OOV words: {oov_count_glove}\")\n",
    "print(\"Some OOV words:\", oov_words_glove[:10])"
   ]
  }
 ],
 "metadata": {
  "kernelspec": {
   "display_name": "Python 3",
   "language": "python",
   "name": "python3"
  },
  "language_info": {
   "codemirror_mode": {
    "name": "ipython",
    "version": 3
   },
   "file_extension": ".py",
   "mimetype": "text/x-python",
   "name": "python",
   "nbconvert_exporter": "python",
   "pygments_lexer": "ipython3",
   "version": "3.12.7"
  }
 },
 "nbformat": 4,
 "nbformat_minor": 2
}
